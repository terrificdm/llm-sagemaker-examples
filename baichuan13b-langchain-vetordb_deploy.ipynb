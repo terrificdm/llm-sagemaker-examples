{
 "cells": [
  {
   "cell_type": "markdown",
   "id": "a63c0138-d19f-4109-aac5-fd0f028a5869",
   "metadata": {},
   "source": [
    "### 1.安装 HuggingFace 并下载模型到本地"
   ]
  },
  {
   "cell_type": "code",
   "execution_count": 1,
   "id": "efb1a261-748a-470a-900f-1863db83447b",
   "metadata": {
    "tags": []
   },
   "outputs": [],
   "source": [
    "!pip install huggingface-hub -Uq"
   ]
  },
  {
   "cell_type": "code",
   "execution_count": 2,
   "id": "ae8f333d-7708-4ffc-8887-55e9bff44129",
   "metadata": {
    "tags": []
   },
   "outputs": [],
   "source": [
    "from huggingface_hub import snapshot_download\n",
    "from pathlib import Path\n",
    "\n",
    "local_model_path = Path(\"./LLM_baichuan-13b-chat_model\")\n",
    "local_model_path.mkdir(exist_ok=True)\n",
    "model_name = \"baichuan-inc/Baichuan-13B-Chat\""
   ]
  },
  {
   "cell_type": "code",
   "execution_count": null,
   "id": "b9dd16c8-e2f7-4d59-8d10-b763a28b6a3f",
   "metadata": {
    "tags": []
   },
   "outputs": [],
   "source": [
    "snapshot_download(repo_id=model_name, cache_dir=local_model_path)"
   ]
  },
  {
   "cell_type": "markdown",
   "id": "2bbeea66-a864-4403-984a-e1f86b9958ab",
   "metadata": {},
   "source": [
    "### 2.SageMaker 初始化配置"
   ]
  },
  {
   "cell_type": "code",
   "execution_count": 4,
   "id": "0660d52d-9c07-4445-893b-d95a2227eeb2",
   "metadata": {},
   "outputs": [],
   "source": [
    "import sagemaker\n",
    "import boto3\n",
    "import os\n",
    "from sagemaker import image_uris\n",
    "\n",
    "role = sagemaker.get_execution_role()  # execution role for the endpoint\n",
    "sess = sagemaker.session.Session()  # sagemaker session for interacting with different AWS APIs\n",
    "bucket = sess.default_bucket()  # bucket to house artifacts\n",
    "region = sess._region_name\n",
    "account_id = sess.account_id()"
   ]
  },
  {
   "cell_type": "markdown",
   "id": "d65185ac-7a43-4661-9fcb-7d77541a04d2",
   "metadata": {},
   "source": [
    "### 3. 把模型拷贝到 S3 存储桶为后续部署做准备"
   ]
  },
  {
   "cell_type": "code",
   "execution_count": null,
   "id": "9bf8cccf-f3b7-4d34-ab14-be364901c1ed",
   "metadata": {
    "tags": []
   },
   "outputs": [],
   "source": [
    "s3_model_prefix = \"LLM_baichuan-13b-chat_model\"  # folder where model checkpoint will go\n",
    "model_snapshot_path = list(local_model_path.glob(\"**/snapshots/*\"))[0]\n",
    "s3_code_prefix = \"LLM_baichuan-13b-chat_deploy_code\"\n",
    "\n",
    "print(f\"s3_code_prefix: {s3_code_prefix}\")\n",
    "print(f\"model_snapshot_path: {model_snapshot_path}\")"
   ]
  },
  {
   "cell_type": "code",
   "execution_count": 6,
   "id": "068e3ed1-9a9b-4ef2-92dd-4afcd9c1ff3c",
   "metadata": {
    "tags": []
   },
   "outputs": [],
   "source": [
    "s3_client = boto3.client(\"s3\")\n",
    "\n",
    "for root, dirs, files in os.walk(model_snapshot_path):\n",
    "    for file in files:\n",
    "        local_path = os.path.join(root, file)\n",
    "        s3_key = s3_model_prefix + '/' + os.path.relpath(local_path, model_snapshot_path)\n",
    "        s3_client.upload_file(local_path, bucket, s3_key)"
   ]
  },
  {
   "cell_type": "markdown",
   "id": "e0527e45-c2da-477b-91fb-8d878a735ca2",
   "metadata": {},
   "source": [
    "### 4.模型部署准备"
   ]
  },
  {
   "cell_type": "markdown",
   "id": "4efb3b82-d8c5-41d3-86ac-6ebfeb7e01c5",
   "metadata": {
    "tags": []
   },
   "source": [
    "* 推理容器镜像"
   ]
  },
  {
   "cell_type": "code",
   "execution_count": null,
   "id": "8269e86f-d50f-4857-a079-1a7a67f8e038",
   "metadata": {
    "tags": []
   },
   "outputs": [],
   "source": [
    "inference_image_uri = (\n",
    "    f\"763104351884.dkr.ecr.{region}.amazonaws.com/djl-inference:0.22.1-deepspeed0.9.2-cu118\"\n",
    ")\n",
    "\n",
    "# 中国区需要替换为下面的image_uri\n",
    "# inference_image_uri = (\n",
    "#     f\"727897471807.dkr.ecr.{region}.amazonaws.com.cn/djl-inference:0.22.1-deepspeed0.9.2-cu118\"\n",
    "# )\n",
    "\n",
    "print(f\"Image going to be used is ---- > {inference_image_uri}\")"
   ]
  },
  {
   "cell_type": "code",
   "execution_count": 8,
   "id": "faaf6561-3a6f-4482-8190-909980e9f8ec",
   "metadata": {
    "tags": []
   },
   "outputs": [],
   "source": [
    "Baichuan13bChat_deploy_code_path = Path(\"./LLM_baichuan-13b-chat_deploy_code\")\n",
    "Baichuan13bChat_deploy_code_path.mkdir(exist_ok=True)"
   ]
  },
  {
   "cell_type": "markdown",
   "id": "41f93edb-2a6a-4951-a4c6-4dbfdec4152b",
   "metadata": {},
   "source": [
    "* Entrypoint 脚本 model.py"
   ]
  },
  {
   "cell_type": "code",
   "execution_count": null,
   "id": "cba608c3-b401-4978-9c42-7bee13e209e5",
   "metadata": {
    "tags": []
   },
   "outputs": [],
   "source": [
    "%%writefile LLM_baichuan-13b-chat_deploy_code/model.py\n",
    "from djl_python import Input, Output\n",
    "from transformers import AutoModelForCausalLM, AutoTokenizer\n",
    "from transformers.generation.utils import GenerationConfig\n",
    "import torch\n",
    "import logging\n",
    "\n",
    "def load_model(properties):\n",
    "    tensor_parallel = properties[\"tensor_parallel_degree\"]\n",
    "    model_location = properties['model_dir']\n",
    "    if \"model_id\" in properties:\n",
    "        model_location = properties['model_id']\n",
    "    logging.info(f\"Loading model in {model_location}\")\n",
    "    \n",
    "    tokenizer = AutoTokenizer.from_pretrained(model_location, use_fast=False, trust_remote_code=True)\n",
    "    model = AutoModelForCausalLM.from_pretrained(model_location, device_map=\"auto\", torch_dtype=torch.float16, trust_remote_code=True)\n",
    "    model.generation_config = GenerationConfig.from_pretrained(model_location)\n",
    "    \n",
    "    return model, tokenizer\n",
    "\n",
    "model = None\n",
    "tokenizer = None\n",
    "\n",
    "def handle(inputs: Input):\n",
    "    global model, tokenizer\n",
    "    if not model:\n",
    "        model, tokenizer = load_model(inputs.get_properties())\n",
    "\n",
    "    if inputs.is_empty():\n",
    "        return None\n",
    "    data = inputs.get_as_json()\n",
    "    \n",
    "    message = data[\"inputs\"]\n",
    "    # params = data[\"parameters\"]\n",
    "    # history = data[\"history\"]\n",
    "    \n",
    "    response = model.chat(tokenizer, message)\n",
    "    \n",
    "    result = {\"outputs\": response}\n",
    "    return Output().add_as_json(result)"
   ]
  },
  {
   "cell_type": "markdown",
   "id": "bec57722-9a43-4011-80cf-f047fafaae34",
   "metadata": {},
   "source": [
    "* 模型运行依赖包"
   ]
  },
  {
   "cell_type": "code",
   "execution_count": null,
   "id": "9a996c9e-0859-44a5-84f5-9569eccacb2f",
   "metadata": {},
   "outputs": [],
   "source": [
    "%%writefile LLM_baichuan-13b-chat_deploy_code/requirements.txt\n",
    "transformers_stream_generator"
   ]
  },
  {
   "cell_type": "markdown",
   "id": "ada3b51f-03ee-4452-a974-aeccc68512e1",
   "metadata": {
    "tags": []
   },
   "source": [
    "* serving.properties 配置文件"
   ]
  },
  {
   "cell_type": "code",
   "execution_count": null,
   "id": "f6af1838-0e93-416a-9f0a-27641d8736a8",
   "metadata": {
    "tags": []
   },
   "outputs": [],
   "source": [
    "print(f\"option.s3url ==> s3://{bucket}/{s3_model_prefix}/\")"
   ]
  },
  {
   "cell_type": "markdown",
   "id": "677ba16e-a749-4f6f-8566-d71b8afae8de",
   "metadata": {},
   "source": [
    "> 需要修改按照上述步骤的 s3url 修改 option.s3url"
   ]
  },
  {
   "cell_type": "code",
   "execution_count": null,
   "id": "834150fe-a3cb-4d05-b479-ad73907cc6d0",
   "metadata": {
    "tags": []
   },
   "outputs": [],
   "source": [
    "%%writefile LLM_baichuan-13b-chat_deploy_code/serving.properties\n",
    "engine=Python\n",
    "option.tensor_parallel_degree=4\n",
    "option.s3url = s3://sagemaker-us-east-1-091166060467/LLM_baichuan-13b-chat_model/"
   ]
  },
  {
   "cell_type": "markdown",
   "id": "f7b6a5a6-8c04-4e2c-ab53-b0e96082c14d",
   "metadata": {},
   "source": [
    "* 将配置文件压缩后上传 S3 存储桶"
   ]
  },
  {
   "cell_type": "code",
   "execution_count": 13,
   "id": "4560c8a0-6e24-4ee0-bd89-f6673c0b88b0",
   "metadata": {
    "tags": []
   },
   "outputs": [],
   "source": [
    "import tarfile\n",
    "\n",
    "folder_path = 'LLM_baichuan-13b-chat_deploy_code'\n",
    "output_filename = 'model.tar.gz'\n",
    "\n",
    "with tarfile.open(output_filename, \"w:gz\") as tar:\n",
    "    tar.add(folder_path, arcname=os.path.basename(folder_path))"
   ]
  },
  {
   "cell_type": "code",
   "execution_count": null,
   "id": "c0ef2e7b-411d-4b97-8d20-f36ab15a56b5",
   "metadata": {
    "tags": []
   },
   "outputs": [],
   "source": [
    "s3_code_artifact = sess.upload_data(\"model.tar.gz\", bucket, s3_code_prefix)\n",
    "print(f\"S3 Code or Model tar ball uploaded to --- > {s3_code_artifact}\")"
   ]
  },
  {
   "cell_type": "markdown",
   "id": "1c95d83b-996e-4e7a-a84d-9b16406496be",
   "metadata": {},
   "source": [
    "### 5. 模型部署"
   ]
  },
  {
   "cell_type": "code",
   "execution_count": 15,
   "id": "abc0dc85-2760-4132-9a60-9da0eb77ffc1",
   "metadata": {},
   "outputs": [],
   "source": [
    "from sagemaker.model import Model\n",
    "\n",
    "def create_model(model_name, model_s3_url):\n",
    "    model = Model(\n",
    "        image_uri=inference_image_uri,\n",
    "        model_data=model_s3_url,\n",
    "        role=role,\n",
    "        name=model_name,\n",
    "        sagemaker_session=sess,\n",
    "    )\n",
    "    return model"
   ]
  },
  {
   "cell_type": "code",
   "execution_count": 16,
   "id": "8ed2e95a-54ca-4b9e-a479-9d3da31079ba",
   "metadata": {},
   "outputs": [],
   "source": [
    "from sagemaker import serializers, deserializers\n",
    "\n",
    "def deploy_model(model, _endpoint_name):\n",
    "    model.deploy(\n",
    "        initial_instance_count=1,\n",
    "        instance_type=\"ml.g5.12xlarge\",\n",
    "        endpoint_name=_endpoint_name\n",
    "    )\n",
    "    predictor = sagemaker.Predictor(\n",
    "        endpoint_name=_endpoint_name,\n",
    "        sagemaker_session=sess,\n",
    "        serializer=serializers.JSONSerializer(),\n",
    "        deserializer=deserializers.JSONDeserializer()\n",
    "    )\n",
    "    return predictor"
   ]
  },
  {
   "cell_type": "code",
   "execution_count": null,
   "id": "b2dacdec-395c-4144-aa38-5e706faa1dae",
   "metadata": {},
   "outputs": [],
   "source": [
    "from sagemaker.utils import name_from_base\n",
    "\n",
    "_model_name = name_from_base(f\"baichuan-13b-chat\") # Append a timestamp to the provided string\n",
    "_model_s3_url = s3_code_artifact\n",
    "_endpoint_name = f\"{_model_name}-endpoint\"\n",
    "\n",
    "model = create_model(_model_name, _model_s3_url)\n",
    "llm_predictor = deploy_model(model, _endpoint_name)"
   ]
  },
  {
   "cell_type": "markdown",
   "id": "7bfd0e0a-bd9c-41cd-9e0b-ce1641542076",
   "metadata": {},
   "source": [
    "### 6. 模型测试"
   ]
  },
  {
   "cell_type": "code",
   "execution_count": 18,
   "id": "0a82625f-cee0-409c-9060-be8620432ae8",
   "metadata": {
    "tags": []
   },
   "outputs": [],
   "source": [
    "context = \"\"\"\n",
    "你是气象专家智能对话助手小雷，了解各种专业的气象知识和气象信息，可以自由对话以及回答问题，像人类一样思考和表达。\n",
    "当有人向你提问时你必须使用，“您好，我是气象专家智能对话助手小雷”这句话作为开头\"。\n",
    "当有人询问你的身份是谁时，你必须回答“我是气象专家智能对话助手小雷”\n",
    "\"\"\"\n",
    "\n",
    "messages = []\n",
    "messages.append({'role': 'user', 'content': context})"
   ]
  },
  {
   "cell_type": "code",
   "execution_count": 19,
   "id": "788c27fc-0b21-4de3-9ab0-1bd18e0d88a7",
   "metadata": {
    "tags": []
   },
   "outputs": [
    {
     "name": "stdout",
     "output_type": "stream",
     "text": [
      "我是气象专家智能对话助手小雷\n"
     ]
    }
   ],
   "source": [
    "prompts = \"\"\"你是谁\"\"\"\n",
    "\n",
    "messages.append({'role': 'user', 'content': prompts})\n",
    "response = llm_predictor.predict(\n",
    "    {\n",
    "        \"inputs\" : messages, \n",
    "    }\n",
    ")\n",
    "messages.append({\"role\": \"assistant\", \"content\": response['outputs']})\n",
    "\n",
    "print(response['outputs'])"
   ]
  },
  {
   "cell_type": "code",
   "execution_count": 20,
   "id": "f8b817ba-9327-45b9-a9b6-61e775a8df07",
   "metadata": {
    "tags": []
   },
   "outputs": [
    {
     "name": "stdout",
     "output_type": "stream",
     "text": [
      "是的，北京夏季的降雨量相较于其他季节较高。这主要是因为夏季受到来自太平洋的东南季风影响，使得降水较为丰富。此外，夏季气温升高，空气中的水分容易凝结成云，形成降雨。因此，在夏季，北京市经常会出现雷阵雨等天气现象。\n"
     ]
    }
   ],
   "source": [
    "prompts = \"\"\"北京是不是夏天雨水比较多？\"\"\"\n",
    "\n",
    "messages.append({'role': 'user', 'content': prompts})\n",
    "response = llm_predictor.predict(\n",
    "    {\n",
    "        \"inputs\" : messages, \n",
    "    }\n",
    ")\n",
    "messages.append({\"role\": \"assistant\", \"content\": response['outputs']})\n",
    "\n",
    "print(response['outputs'])"
   ]
  },
  {
   "cell_type": "code",
   "execution_count": 21,
   "id": "ff94d396-55f2-49d7-8eed-63333d478c4d",
   "metadata": {
    "tags": []
   },
   "outputs": [
    {
     "name": "stdout",
     "output_type": "stream",
     "text": [
      "在2019年7月的一天，北京市遭遇了一场强降雨过程。据统计，这场暴雨导致了全市多处出现积水，部分地区出现了严重内涝情况。其中，海淀区、朝阳区的部分路段积水深度达到了1米左右，给市民出行带来了很大不便。为了应对这次强降雨，北京市政府及时启动了防汛应急响应措施，组织人员进行抢险救援工作，确保人民群众生命财产安全。所以，从这个具体的例子来看，确实如我所言，北京夏天的雨水较多。\n",
      "\n",
      "[{'role': 'user', 'content': '\\n你是气象专家智能对话助手小雷，了解各种专业的气象知识和气象信息，可以自由对话以及回答问题，像人类一样思考和表达。\\n当有人向你提问时你必须使用，“您好，我是气象专家智能对话助手小雷”这句话作为开头\"。\\n当有人询问你的身份是谁时，你必须回答“我是气象专家智能对话助手小雷”\\n'}, {'role': 'user', 'content': '你是谁'}, {'role': 'assistant', 'content': '我是气象专家智能对话助手小雷'}, {'role': 'user', 'content': '北京是不是夏天雨水比较多？'}, {'role': 'assistant', 'content': '是的，北京夏季的降雨量相较于其他季节较高。这主要是因为夏季受到来自太平洋的东南季风影响，使得降水较为丰富。此外，夏季气温升高，空气中的水分容易凝结成云，形成降雨。因此，在夏季，北京市经常会出现雷阵雨等天气现象。'}, {'role': 'user', 'content': '你说的是真的吗？举个具体例子吧'}, {'role': 'assistant', 'content': '在2019年7月的一天，北京市遭遇了一场强降雨过程。据统计，这场暴雨导致了全市多处出现积水，部分地区出现了严重内涝情况。其中，海淀区、朝阳区的部分路段积水深度达到了1米左右，给市民出行带来了很大不便。为了应对这次强降雨，北京市政府及时启动了防汛应急响应措施，组织人员进行抢险救援工作，确保人民群众生命财产安全。所以，从这个具体的例子来看，确实如我所言，北京夏天的雨水较多。'}]\n"
     ]
    }
   ],
   "source": [
    "prompts = \"\"\"你说的是真的吗？举个具体例子吧\"\"\"\n",
    "\n",
    "messages.append({'role': 'user', 'content': prompts})\n",
    "response = llm_predictor.predict(\n",
    "    {\n",
    "        \"inputs\" : messages, \n",
    "    }\n",
    ")\n",
    "messages.append({\"role\": \"assistant\", \"content\": response['outputs']})\n",
    "\n",
    "print(response['outputs']+'\\n')\n",
    "print(messages)"
   ]
  },
  {
   "cell_type": "markdown",
   "id": "be408586",
   "metadata": {},
   "source": [
    "### 7. 结合向量数据库私域数据构建专业知识问答系统"
   ]
  },
  {
   "cell_type": "markdown",
   "id": "44b02395",
   "metadata": {},
   "source": [
    "#### 7.1 部署 Embedding 模型"
   ]
  },
  {
   "cell_type": "code",
   "execution_count": 22,
   "id": "675ea605",
   "metadata": {},
   "outputs": [],
   "source": [
    "# !pip install huggingface-hub -Uq"
   ]
  },
  {
   "cell_type": "code",
   "execution_count": 23,
   "id": "47cd1b4d",
   "metadata": {},
   "outputs": [],
   "source": [
    "# import sagemaker\n",
    "# import boto3\n",
    "# import os\n",
    "# from sagemaker import image_uris\n",
    "\n",
    "# role = sagemaker.get_execution_role()  # execution role for the endpoint\n",
    "# sess = sagemaker.session.Session()  # sagemaker session for interacting with different AWS APIs\n",
    "# bucket = sess.default_bucket()  # bucket to house artifacts\n",
    "# region = sess._region_name\n",
    "# account_id = sess.account_id()"
   ]
  },
  {
   "cell_type": "markdown",
   "id": "79a71421",
   "metadata": {},
   "source": [
    "* 下载 Embedding 模型并拷贝至 S3 存储桶"
   ]
  },
  {
   "cell_type": "code",
   "execution_count": 24,
   "id": "194ef0ad",
   "metadata": {},
   "outputs": [],
   "source": [
    "from huggingface_hub import snapshot_download\n",
    "from pathlib import Path\n",
    "\n",
    "local_embedding_model_path = Path(\"./embedding_model\")\n",
    "local_embedding_model_path.mkdir(exist_ok=True)\n",
    "embedding_model_name = \"moka-ai/m3e-base\""
   ]
  },
  {
   "cell_type": "code",
   "execution_count": null,
   "id": "a8d858c9",
   "metadata": {},
   "outputs": [],
   "source": [
    "snapshot_download(repo_id=embedding_model_name, cache_dir=local_embedding_model_path)"
   ]
  },
  {
   "cell_type": "code",
   "execution_count": null,
   "id": "5ebdb747",
   "metadata": {},
   "outputs": [],
   "source": [
    "s3_embedding_model_prefix = \"embedding_model\"  # folder where model checkpoint will go\n",
    "embedding_model_snapshot_path = list(local_embedding_model_path.glob(\"**/snapshots/*\"))[0]\n",
    "s3_embedding_code_prefix = \"embedding_deploy_code\"\n",
    "\n",
    "print(f\"s3_embedding_code_prefix: {s3_embedding_model_prefix}\")\n",
    "print(f\"embedding_model_snapshot_path: {embedding_model_snapshot_path}\")"
   ]
  },
  {
   "cell_type": "code",
   "execution_count": 27,
   "id": "1e96b32a",
   "metadata": {},
   "outputs": [],
   "source": [
    "s3_client = boto3.client(\"s3\")\n",
    "\n",
    "for root, dirs, files in os.walk(embedding_model_snapshot_path):\n",
    "    for file in files:\n",
    "        local_path = os.path.join(root, file)\n",
    "        s3_key = s3_embedding_model_prefix + '/' + os.path.relpath(local_path, embedding_model_snapshot_path)\n",
    "        s3_client.upload_file(local_path, bucket, s3_key)"
   ]
  },
  {
   "cell_type": "markdown",
   "id": "e89064f0",
   "metadata": {},
   "source": [
    "* 模型部署准备"
   ]
  },
  {
   "cell_type": "markdown",
   "id": "a2152489",
   "metadata": {},
   "source": [
    ">推理容器镜像"
   ]
  },
  {
   "cell_type": "code",
   "execution_count": 28,
   "id": "4144ece0",
   "metadata": {},
   "outputs": [],
   "source": [
    "# inference_image_uri = (\n",
    "#     f\"763104351884.dkr.ecr.{region}.amazonaws.com/djl-inference:0.22.1-deepspeed0.9.2-cu118\"\n",
    "# )\n",
    "\n",
    "# 中国区需要替换为下面的image_uri\n",
    "# inference_image_uri = (\n",
    "#     f\"727897471807.dkr.ecr.{region}.amazonaws.com.cn/djl-inference:0.22.1-deepspeed0.9.2-cu118\"\n",
    "# )\n",
    "\n",
    "# print(f\"Image going to be used is ---- > {inference_image_uri}\")"
   ]
  },
  {
   "cell_type": "markdown",
   "id": "c9025887",
   "metadata": {},
   "source": [
    "> Entrypoint 脚本 model.py"
   ]
  },
  {
   "cell_type": "code",
   "execution_count": 29,
   "id": "96003aa1",
   "metadata": {},
   "outputs": [],
   "source": [
    "embedding_deploy_code_path = Path(\"./embedding_deploy_code\")\n",
    "embedding_deploy_code_path.mkdir(exist_ok=True)"
   ]
  },
  {
   "cell_type": "code",
   "execution_count": null,
   "id": "ebd545d3",
   "metadata": {},
   "outputs": [],
   "source": [
    "%%writefile embedding_deploy_code/model.py\n",
    "from djl_python import Input, Output\n",
    "from transformers import AutoModel, AutoTokenizer\n",
    "import torch\n",
    "import logging\n",
    "\n",
    "device = torch.device('cuda:0' if torch.cuda.is_available() else 'cpu')\n",
    "print(f'--device={device}')\n",
    "\n",
    "def load_model(properties):\n",
    "    tensor_parallel = properties[\"tensor_parallel_degree\"]\n",
    "    model_location = properties['model_dir']\n",
    "    if \"model_id\" in properties:\n",
    "        model_location = properties['model_id']\n",
    "    logging.info(f\"Loading model in {model_location}\")\n",
    "    \n",
    "    tokenizer = AutoTokenizer.from_pretrained(model_location)\n",
    "    \n",
    "    model = AutoModel.from_pretrained(model_location)\n",
    "    model.to(device) \n",
    "    \n",
    "    return model, tokenizer\n",
    "\n",
    "model = None\n",
    "tokenizer = None\n",
    "\n",
    "def mean_pooling(model_output, attention_mask):\n",
    "    token_embeddings = model_output[0].to(device) #First element of model_output contains all token embeddings\n",
    "    input_mask_expanded = attention_mask.unsqueeze(-1).expand(token_embeddings.size()).float().to(device)\n",
    "    return torch.sum(token_embeddings * input_mask_expanded, 1) / torch.clamp(input_mask_expanded.sum(1), min=1e-9)\n",
    "\n",
    "def handle(inputs: Input):\n",
    "    global model, tokenizer\n",
    "    if not model:\n",
    "        model, tokenizer = load_model(inputs.get_properties())\n",
    "\n",
    "    if inputs.is_empty():\n",
    "        return None\n",
    "    data = inputs.get_as_json()\n",
    "    \n",
    "    input_sentences = data[\"inputs\"]\n",
    "    logging.info(f\"inputs: {input_sentences}\")\n",
    "    \n",
    "    encoded_input = tokenizer(input_sentences, padding=True, truncation=True, return_tensors='pt').to(device)\n",
    "    # Compute token embeddings\n",
    "    with torch.no_grad():\n",
    "        model_output = model(**encoded_input)\n",
    "    \n",
    "    # Perform pooling. In this case, max pooling.\n",
    "    sentence_embeddings = mean_pooling(model_output, encoded_input['attention_mask']).to(device).cpu().numpy()\n",
    "\n",
    "    \n",
    "    result = {\"sentence_embeddings\": sentence_embeddings}\n",
    "    return Output().add_as_json(result)"
   ]
  },
  {
   "cell_type": "markdown",
   "id": "3ef48f80",
   "metadata": {},
   "source": [
    ">serving.properties 配置文件"
   ]
  },
  {
   "cell_type": "code",
   "execution_count": null,
   "id": "5076ccb9",
   "metadata": {},
   "outputs": [],
   "source": [
    "print(f\"option.s3url ==> s3://{bucket}/{s3_embedding_model_prefix}/\")"
   ]
  },
  {
   "cell_type": "markdown",
   "id": "81e96606",
   "metadata": {},
   "source": [
    ">需要修改按照上述步骤的 s3url 修改 option.s3url"
   ]
  },
  {
   "cell_type": "code",
   "execution_count": null,
   "id": "77ea481f",
   "metadata": {},
   "outputs": [],
   "source": [
    "%%writefile embedding_deploy_code/serving.properties\n",
    "engine=Python\n",
    "option.tensor_parallel_degree=1\n",
    "option.s3url = s3://sagemaker-us-east-1-091166060467/embedding_model/"
   ]
  },
  {
   "cell_type": "markdown",
   "id": "961babb5",
   "metadata": {},
   "source": [
    ">将配置文件压缩后上传 S3 存储桶"
   ]
  },
  {
   "cell_type": "code",
   "execution_count": 33,
   "id": "985d52c8",
   "metadata": {},
   "outputs": [],
   "source": [
    "import tarfile\n",
    "\n",
    "folder_path = 'embedding_deploy_code'\n",
    "output_filename = 'embedding_model.tar.gz'\n",
    "\n",
    "with tarfile.open(output_filename, \"w:gz\") as tar:\n",
    "    tar.add(folder_path, arcname=os.path.basename(folder_path))"
   ]
  },
  {
   "cell_type": "code",
   "execution_count": null,
   "id": "7fea4128",
   "metadata": {},
   "outputs": [],
   "source": [
    "s3_embedding_code_artifact = sess.upload_data(\"embedding_model.tar.gz\", bucket, s3_embedding_model_prefix)\n",
    "print(f\"S3 Code or Model tar ball uploaded to --- > {s3_embedding_code_artifact}\")"
   ]
  },
  {
   "cell_type": "markdown",
   "id": "ccda4f7e",
   "metadata": {},
   "source": [
    "* 模型部署"
   ]
  },
  {
   "cell_type": "code",
   "execution_count": 35,
   "id": "45792342",
   "metadata": {},
   "outputs": [],
   "source": [
    "from sagemaker.model import Model\n",
    "\n",
    "def create_model(embedding_model_name, embedding_model_s3_url):\n",
    "    model = Model(\n",
    "        image_uri=inference_image_uri,\n",
    "        model_data=embedding_model_s3_url,\n",
    "        role=role,\n",
    "        name=embedding_model_name,\n",
    "        sagemaker_session=sess,\n",
    "    )\n",
    "    return model"
   ]
  },
  {
   "cell_type": "code",
   "execution_count": 36,
   "id": "8419d404",
   "metadata": {},
   "outputs": [],
   "source": [
    "from sagemaker import serializers, deserializers\n",
    "\n",
    "def deploy_model(embedding_model, _embedding_endpoint_name):\n",
    "    embedding_model.deploy(\n",
    "        initial_instance_count=1,\n",
    "        instance_type=\"ml.g5.2xlarge\",\n",
    "        endpoint_name=_embedding_endpoint_name\n",
    "    )\n",
    "    predictor = sagemaker.Predictor(\n",
    "        endpoint_name=_embedding_endpoint_name,\n",
    "        sagemaker_session=sess,\n",
    "        serializer=serializers.JSONSerializer(),\n",
    "        deserializer=deserializers.JSONDeserializer()\n",
    "    )\n",
    "    return predictor"
   ]
  },
  {
   "cell_type": "code",
   "execution_count": null,
   "id": "88669423",
   "metadata": {},
   "outputs": [],
   "source": [
    "from sagemaker.utils import name_from_base\n",
    "\n",
    "_embedding_model_name = name_from_base(f\"embedding\") # Append a timestamp to the provided string\n",
    "_embedding_model_s3_url = s3_embedding_code_artifact\n",
    "_embedding_endpoint_name = f\"{_embedding_model_name}-endpoint\"\n",
    "\n",
    "embedding_model = create_model(_embedding_model_name, _embedding_model_s3_url)\n",
    "embedding_predictor = deploy_model(embedding_model, _embedding_endpoint_name)"
   ]
  },
  {
   "cell_type": "code",
   "execution_count": 38,
   "id": "ec91a334",
   "metadata": {},
   "outputs": [
    {
     "name": "stdout",
     "output_type": "stream",
     "text": [
      "{'sentence_embeddings': [[0.16614669561386108, 0.2106981873512268, 0.03797636181116104, -1.018144130706787, 0.9220374822616577, -0.34364408254623413, -0.3254203200340271, 0.3959978520870209, -0.28563323616981506, 0.00716012017801404, 1.3837165832519531, -0.1299036592245102, 0.08019127696752548, -0.3404189646244049, -0.9665927290916443, 0.48589572310447693, 0.5809511542320251, 0.5983569025993347, -0.44463297724723816, -0.5546059012413025, 0.6520602107048035, -0.49927085638046265, -1.0214600563049316, 1.2074916362762451, -0.3740547001361847, 0.12379224598407745, 0.35420382022857666, -0.5372006893157959, -0.227334126830101, -0.3129538297653198, 1.1523759365081787, -0.40375426411628723, -0.47171226143836975, -0.13515453040599823, -0.13646677136421204, 0.649815559387207, 0.6560749411582947, -0.1027904823422432, 1.042426347732544, 1.0639841556549072, 0.18004821240901947, 0.36135515570640564, -0.2584298551082611, -0.1127224862575531, 0.14170441031455994, 0.15764649212360382, 0.2994479537010193, 0.5560094714164734, -0.17168019711971283, 0.9461463689804077, -0.10559543967247009, 6.927255630493164, -0.058558810502290726, 0.9732223749160767, -0.24943409860134125, 0.702007532119751, -0.634909451007843, -0.477874755859375, 0.022789398208260536, 0.4557553231716156, 0.3818484842777252, -0.7403345704078674, -0.2990328073501587, -0.87256920337677, -0.6075966358184814, 0.13302204012870789, -1.6292327642440796, -0.653221845626831, 1.1325165033340454, -1.7503148317337036, 1.0369641780853271, -0.4444067180156708, -0.7424328327178955, -0.37242206931114197, 0.14010152220726013, -0.1772933453321457, 1.040168046951294, 0.800963819026947, -0.000739356386475265, 0.08093108981847763, 0.7657496333122253, 0.3422805368900299, -0.0006716688512824476, 0.18793514370918274, -0.8858902454376221, -0.6553188562393188, 0.0534936785697937, 0.23434323072433472, 0.8355286717414856, 0.465152770280838, -1.5521260499954224, -0.20530717074871063, -1.1695137023925781, -0.6965189576148987, -0.14520423114299774, -0.1447596549987793, 0.9523836970329285, -0.7841647267341614, -0.548043429851532, -0.2991514205932617, -0.3742946684360504, 0.26208293437957764, 0.05717720836400986, -0.6892330050468445, 0.5036850571632385, 0.6703685522079468, -0.7119874358177185, 0.33988359570503235, 0.5670683979988098, 0.1242106705904007, -0.18782339990139008, -0.16329358518123627, 0.44817930459976196, 1.0586955547332764, -0.8376114368438721, -0.2848416268825531, -0.2662390172481537, 0.6319559216499329, 0.7990560531616211, -0.1386241912841797, 0.05379193648695946, 0.7494671940803528, -0.9395486116409302, -0.7112375497817993, 0.40812060236930847, -0.43268266320228577, -0.13601580262184143, 0.48728814721107483, -0.009786498732864857, 0.7038220763206482, 0.7043521404266357, -0.29235607385635376, -0.42015519738197327, 0.617324948310852, -0.2046549767255783, -0.5494895577430725, 0.4015624225139618, -0.7775193452835083, -1.326821208000183, -0.3772658705711365, -0.028083791956305504, 0.19156043231487274, 0.5554722547531128, -0.6554307341575623, -0.489108145236969, 0.4888586699962616, 0.1256261020898819, 0.057837702333927155, 1.137157678604126, -0.6633167266845703, -0.21560430526733398, -0.2696523368358612, -0.462354838848114, 0.35281214118003845, 0.18649359047412872, -0.042571909725666046, -0.2981891632080078, 0.0030987898353487253, -1.2366867065429688, -0.6348035335540771, -0.38237231969833374, -0.043641313910484314, 0.26310402154922485, -0.0022031147964298725, 0.5063626766204834, -0.40397384762763977, 0.12320413440465927, -0.5660129189491272, -0.699651837348938, 0.07770013064146042, -0.4155540466308594, -0.0024963179603219032, -0.04647119715809822, -0.022825295105576515, -0.5894829630851746, -0.8690019249916077, -0.4749467968940735, 0.6444122195243835, -0.7168001532554626, -0.6538392305374146, -1.0635238885879517, 0.5946370363235474, 0.1587800681591034, -0.17549271881580353, -0.6140220165252686, -0.43239670991897583, -0.8952241539955139, 0.2294568419456482, 0.5548076629638672, 0.1886252462863922, -0.8891197443008423, -0.9697064757347107, -0.6574327349662781, -1.0809053182601929, 1.3671921491622925, 1.0045069456100464, 0.10631033778190613, 0.1794881373643875, -0.8266113996505737, 0.07060515880584717, 0.9105213284492493, -0.4770994186401367, 0.24805805087089539, 0.8183470368385315, -0.2826247811317444, 0.4111810028553009, 0.43032723665237427, 0.7430569529533386, 0.3482803404331207, -0.17301493883132935, -0.4499514698982239, -0.4944237470626831, -0.19234022498130798, 0.7140923738479614, -0.2520492970943451, 0.054239433258771896, -1.4746041297912598, 0.2879241704940796, -0.29234954714775085, -0.15815667808055878, 1.0035268068313599, -0.9071571826934814, -0.8057669997215271, -0.23250563442707062, -0.8932035565376282, -0.23957976698875427, 0.5789808034896851, 0.02726837433874607, -0.3804859220981598, -0.5769466757774353, 0.8679752349853516, -1.0108000040054321, -0.32577523589134216, -0.5974627137184143, 1.0420479774475098, 0.9654474258422852, 0.16991175711154938, 1.0513567924499512, -0.15356066823005676, -0.6792247891426086, -1.2045025825500488, 0.5748980641365051, 2.222416639328003, -0.812130331993103, 0.09769077599048615, -0.10422991961240768, -0.42701682448387146, -0.7691417932510376, -0.3414442837238312, -0.15889574587345123, 0.15691524744033813, 0.2926922142505646, 0.18009230494499207, -1.40475332736969, -0.6360557675361633, -0.4736451208591461, -0.8505672812461853, -0.4623650014400482, 0.6398199200630188, -0.04433094710111618, -0.11009107530117035, -0.6191610097885132, 0.6803364157676697, 0.5403000712394714, 0.2338390052318573, -0.14353515207767487, -0.5181370973587036, -0.3468032777309418, -0.14383472502231598, -0.5730654001235962, 0.4051564037799835, 1.1290249824523926, -0.2752838730812073, -0.40833693742752075, 0.4170033037662506, 0.5110567808151245, 0.5566977858543396, 0.3288889527320862, 0.010549425147473812, -0.9752618074417114, -0.30268046259880066, -0.18621784448623657, 0.29170289635658264, 0.11705173552036285, -0.07931731641292572, -0.6741195917129517, -0.040504034608602524, 0.6123601198196411, -0.005276904441416264, -0.6503778100013733, -0.5180203914642334, -0.5805798768997192, 0.6960917115211487, 1.0624130964279175, 1.4144318103790283, -0.11100055277347565, -1.189151644706726, 1.2319873571395874, 0.028920384123921394, -0.4893442392349243, 0.4282381236553192, -0.5396143794059753, -1.123792052268982, 0.7245405316352844, -0.13754811882972717, 0.39245015382766724, -0.5315095782279968, 0.4361966550350189, -1.4601281881332397, -0.7597827315330505, 0.018373485654592514, -0.4930638074874878, -0.0015448371414095163, 0.3539230525493622, -0.4663048982620239, -0.07493983954191208, -0.007739798165857792, -0.823593020439148, 0.14836497604846954, -0.28540509939193726, 1.5200165510177612, 0.2642272412776947, 0.374083548784256, 0.8004319667816162, 0.5139591097831726, 0.8255723118782043, 0.9567018151283264, 0.7780466675758362, -0.13848397135734558, 0.7326632142066956, 0.6822859048843384, 0.16583044826984406, -0.06463193148374557, 0.08346477895975113, 0.13257455825805664, 1.1776906251907349, -0.17557796835899353, -0.5866684317588806, -0.27138909697532654, 0.31062790751457214, 0.30307164788246155, -0.4400525987148285, 0.29443299770355225, -0.6409074068069458, 0.25589677691459656, -0.12626321613788605, 0.1718313843011856, 0.26412323117256165, -0.32705414295196533, -0.6566299796104431, -0.48755455017089844, 1.0360207557678223, -0.6581541895866394, -0.3462078869342804, 0.3608361780643463, -0.16658325493335724, 0.5728821158409119, 0.06050821766257286, 0.8941789269447327, 0.708820104598999, -0.29300639033317566, -1.3908230066299438, -0.5266093015670776, -0.20743170380592346, -0.219304621219635, -0.3134613037109375, 0.7639393210411072, -0.36867478489875793, 0.04740413650870323, -1.3960031270980835, 0.651830792427063, 0.24348823726177216, 1.0036118030548096, -0.44472745060920715, 0.09984039515256882, 0.1922615021467209, -0.6999269723892212, 0.8117687106132507, -0.2139044851064682, -0.21966832876205444, 1.4210572242736816, -0.5619987845420837, 0.8271453976631165, 0.5011008977890015, -0.00931418314576149, -0.19537585973739624, -0.1699676215648651, -1.1881358623504639, -0.9355961680412292, -0.04246881976723671, -1.054329514503479, -0.23055654764175415, 0.07134424149990082, 0.1295299082994461, 0.38670602440834045, 0.11549532413482666, 0.7855263948440552, 0.42998993396759033, 0.053121406584978104, -0.10955800861120224, 0.08909542113542557, -1.1318604946136475, -0.40648043155670166, 0.38983094692230225, 1.2439110279083252, 0.33822211623191833, 0.835078239440918, -0.36215081810951233, -0.24999547004699707, -0.036922845989465714, -1.0554603338241577, -0.12023990601301193, -0.7811402678489685, -0.7195831537246704, 0.09924659878015518, -0.15075795352458954, -0.6197668313980103, -0.4562378227710724, 0.11739807575941086, -0.4657246470451355, -0.09771028161048889, 0.2670484781265259, 1.0391925573349, 0.8070676326751709, 0.2981793284416199, -0.2675493657588959, -0.5316253900527954, -0.3080473840236664, 0.4761212170124054, -0.035612545907497406, 0.5229200720787048, -0.1978575438261032, 0.3618961572647095, -1.0501819849014282, 0.823032796382904, 0.6801429986953735, -0.3439488112926483, -0.1397116482257843, -0.22357985377311707, 0.5873779058456421, -1.2185306549072266, 0.31498661637306213, 0.608010470867157, -0.82444167137146, -0.2408595234155655, 0.451039582490921, -0.44059160351753235, -0.7358014583587646, 0.44092532992362976, 0.6467791795730591, 0.29553407430648804, 0.03270185366272926, 0.004341343883424997, -0.7928355932235718, 0.33081045746803284, -0.16195039451122284, -0.338026225566864, -0.34630081057548523, 0.6175054311752319, -0.5643489956855774, -0.5857054591178894, 0.4366013705730438, -0.9617151618003845, 0.2910701632499695, 0.97422194480896, 0.16573618352413177, 0.3464408814907074, -0.19480660557746887, 0.7976369261741638, -0.15790106356143951, -0.5656874775886536, 1.2332881689071655, 0.8001381158828735, 0.28009310364723206, -0.4288497269153595, -0.1990700364112854, 0.602573037147522, -0.19084271788597107, -1.212289571762085, -0.9198094606399536, 0.8047553300857544, -0.4620567560195923, -0.120168037712574, -0.3000832796096802, -1.343237042427063, -0.28322282433509827, -0.35638701915740967, -0.8356151580810547, 0.5888757109642029, -0.602908194065094, -1.3461979627609253, 0.09308967739343643, 0.3393964171409607, -1.0204957723617554, -0.10987856984138489, -0.6850950121879578, 0.1774996668100357, 0.4897192418575287, -0.699107825756073, 0.5041921734809875, 0.416832834482193, -0.5248724818229675, 0.603978157043457, 1.2039953470230103, -0.0010997354984283447, -0.6572231650352478, 0.03449878841638565, -0.8002697229385376, 0.29115575551986694, 0.9897289276123047, 0.3157555162906647, -0.6053298711776733, -0.4700585603713989, 1.2970081567764282, -0.10976217687129974, -0.09863705933094025, -0.8518609404563904, -0.4982442855834961, 1.0059914588928223, 0.20521028339862823, 0.5890136361122131, -0.2227589339017868, 0.054992031306028366, 0.5588011145591736, -0.1524198055267334, 0.29429134726524353, 0.7412390112876892, 0.10497093945741653, 0.16375070810317993, 1.2770650386810303, -0.8155688047409058, -0.9163774847984314, 0.21251320838928223, -0.41806760430336, 0.3067849576473236, 0.15203149616718292, -0.07944496721029282, -0.642630398273468, -1.3337479829788208, -1.238526701927185, 0.48498937487602234, 0.3209676742553711, 1.0033174753189087, -0.6074126362800598, -0.7163928747177124, -1.3062223196029663, -0.24625402688980103, -0.3925105035305023, 0.8757532238960266, 0.5157772898674011, -1.3600138425827026, 0.58665531873703, -1.0530132055282593, 0.5264015793800354, 0.03925056383013725, 0.6571940183639526, -1.2829463481903076, -0.5349022746086121, 0.7513926029205322, -0.08101548254489899, -0.14260855317115784, -1.0479708909988403, -0.7897486090660095, -1.1451359987258911, -1.17008638381958, 0.2633151710033417, -0.5575655698776245, 0.04166342690587044, 0.8505112528800964, 0.30440226197242737, -0.3865308463573456, 0.22746750712394714, 0.30796870589256287, 0.15395870804786682, 0.06425195187330246, 0.028007276356220245, -0.4818141758441925, -0.290704607963562, 0.12263230979442596, 0.3859041929244995, 0.7994844913482666, 1.3494380712509155, -1.3825162649154663, -0.904573380947113, -0.45988497138023376, 0.23046249151229858, 0.5446492433547974, -0.5814499258995056, 0.863400399684906, -0.3160710334777832, -0.6724008321762085, 0.3930036127567291, 0.1631079614162445, 0.9904338717460632, -0.12544313073158264, 0.8087117671966553, -0.32303181290626526, 0.09842607378959656, -0.6887561678886414, 0.4234108030796051, 0.30008476972579956, -0.06098303943872452, 0.8770372271537781, -2.1819274479639716e-05, 0.24590404331684113, -0.5856148600578308, 1.720735788345337, 0.3271369934082031, 0.2426173985004425, 0.24318403005599976, -1.2630916833877563, 1.2855796813964844, 1.1143691539764404, -0.6669850945472717, 1.2098095417022705, -0.11821643263101578, -0.7327854037284851, 0.389606773853302, 0.2946077585220337, 0.5868481993675232, 0.10207425802946091, -0.2836972177028656, -0.20614200830459595, 0.0035456339828670025, -0.26897647976875305, 0.44470253586769104, 2.227207660675049, 0.9823142886161804, 1.3223730325698853, 0.27729636430740356, 0.3731657564640045, -0.5040111541748047, 0.18515877425670624, 0.32963600754737854, 0.3156822621822357, 0.5762278437614441, 0.2981826961040497, -0.005958251189440489, -1.1851030588150024, 0.9404356479644775, 1.7074522972106934, 0.22695201635360718, -0.9959439039230347, 0.1126607358455658, 1.0877434015274048, -0.011585361324250698, 1.72776198387146, 0.45989373326301575, 0.05890389159321785, -0.35422831773757935, 0.9945247769355774, -0.909659206867218, 1.1949070692062378, -0.4380941092967987, -1.3379563093185425, 0.6754564046859741, 0.6603885889053345, 0.10808765143156052, -0.8308091759681702, -0.7544050216674805, -0.4191122353076935, -0.8851702809333801, 1.5906659364700317, -0.6829530000686646, 0.09634675830602646, -0.8639904856681824, 0.6958165764808655, 0.8636440634727478, 0.5347614288330078, 1.1229019165039062, 0.2271638810634613, 0.9347944259643555, 0.7893244028091431, -0.8984869718551636, -0.08221694827079773, -0.4455609917640686, 0.2554074227809906, 0.29855045676231384, -0.17499174177646637, -0.7226666212081909, -1.233447551727295, -0.7831069231033325, 0.6051753759384155, -1.3278841972351074, 0.022528421133756638, -0.48543691635131836, -1.037666916847229, 0.34965723752975464, -0.3799947202205658, 0.8476943373680115, 0.5780240893363953, 0.7575476169586182, 0.32246801257133484, 0.6631851196289062, -0.6542755961418152, 2.125046730041504, -0.18271447718143463, 0.30112189054489136, -0.7813501358032227, -0.46863415837287903, 0.7521999478340149, 0.5874630808830261, -0.5018615126609802, -0.3345402181148529, -0.4899820387363434, 0.7139964699745178, -0.6429884433746338, 0.10066612809896469, 0.008157425560057163, -0.18438389897346497, -0.9712409973144531, -0.6504637598991394, 0.48771363496780396, -1.167759656906128, 0.9686588048934937, -0.21644970774650574, -0.47485727071762085, 0.2905125319957733, 0.978267252445221, 0.5916361212730408, 0.19356468319892883, -0.5583938360214233, 0.5133241415023804, -0.14369980990886688, 0.14084048569202423, 1.0427707433700562, 0.7438324093818665, 1.1075729131698608, 0.35157591104507446, -0.5576328039169312, -0.08028103411197662, -1.375415325164795, 0.29661649465560913, -1.1785391569137573, -0.0848512202501297, 0.9022235870361328, 0.3872581720352173, -0.5331937670707703, 0.3695617914199829, 0.5397348403930664, 0.11019204556941986, -0.0684400275349617, 0.7754727602005005, -0.17328329384326935, -0.9062473177909851, -0.5438664555549622, -0.33468568325042725, 0.9700244665145874, 0.5531670451164246, 0.8873579502105713, -0.6239071488380432, 0.35615548491477966, -0.3095507323741913, -0.28053566813468933, 1.454695463180542, -0.9266250729560852, 0.10338664054870605, -1.0833631753921509, 0.1358586847782135, -0.2632127106189728, -0.1896706074476242, -0.24049411714076996, 0.17885710299015045, -1.143403172492981, -0.49723249673843384, -1.2498900890350342, -0.5950004458427429, 0.00944029912352562]]}\n"
     ]
    }
   ],
   "source": [
    "# Embedding 模型验证\n",
    "\n",
    "prompts = \"\"\"\n",
    "北京是不是夏天雨水比较多？\n",
    "\"\"\"\n",
    "\n",
    "reponse = embedding_predictor.predict(\n",
    "    {\n",
    "        \"inputs\" : prompts\n",
    "    }\n",
    ")\n",
    "\n",
    "print(reponse)"
   ]
  },
  {
   "cell_type": "markdown",
   "id": "65fc63ad",
   "metadata": {},
   "source": [
    "#### 7.2 通过 LangChain 使用 Embedding 模型处理文档"
   ]
  },
  {
   "cell_type": "code",
   "execution_count": 39,
   "id": "bb4eaac1-98aa-4a93-aafb-f19879da7947",
   "metadata": {
    "tags": []
   },
   "outputs": [],
   "source": [
    "!pip3 install langchain -Uq"
   ]
  },
  {
   "cell_type": "code",
   "execution_count": 40,
   "id": "cec298b4",
   "metadata": {},
   "outputs": [],
   "source": [
    "from typing import Dict, List\n",
    "from langchain.embeddings import SagemakerEndpointEmbeddings\n",
    "from langchain.embeddings.sagemaker_endpoint import EmbeddingsContentHandler\n",
    "import json\n",
    "\n",
    "class EmbeddingContentHandler(EmbeddingsContentHandler):\n",
    "    content_type = \"application/json\"\n",
    "    accepts = \"application/json\"\n",
    "    \n",
    "    def transform_input(self, prompt: str, model_kwargs={}) -> bytes:\n",
    "        input_str = json.dumps({\"inputs\": prompt, **model_kwargs})\n",
    "        return input_str.encode(\"utf-8\")\n",
    "    \n",
    "    def transform_output(self, output: bytes) -> List[List[float]]:\n",
    "        response_json = json.loads(output.read().decode(\"utf-8\"))\n",
    "        return response_json[\"sentence_embeddings\"]\n",
    "    \n",
    "embedding_content_handler = EmbeddingContentHandler()\n",
    "\n",
    "embeddings = SagemakerEndpointEmbeddings(\n",
    "    # credentials_profile_name=\"credentials-profile-name\",\n",
    "    endpoint_name =_embedding_endpoint_name,\n",
    "    region_name = \"us-east-1\",\n",
    "    content_handler = embedding_content_handler,\n",
    ")"
   ]
  },
  {
   "cell_type": "code",
   "execution_count": 41,
   "id": "c05481a0",
   "metadata": {},
   "outputs": [],
   "source": [
    "# 验证 LangChain 调用 Embedding 模型\n",
    "\n",
    "# query_result = embeddings.embed_query(\"query\")\n",
    "\n",
    "# doc_results = embeddings.embed_documents(['content1', 'content2'])\n",
    "\n",
    "# print(query_result, '\\n\\n', doc_results)"
   ]
  },
  {
   "cell_type": "markdown",
   "id": "4eb90719",
   "metadata": {},
   "source": [
    "#### 7.3 私域文档处理及私域文档 Embedding 处理后存入 Chroma 向量数据库"
   ]
  },
  {
   "cell_type": "markdown",
   "id": "8bf4da77",
   "metadata": {},
   "source": [
    "* 私域文档加载"
   ]
  },
  {
   "cell_type": "code",
   "execution_count": null,
   "id": "49b92f95-9922-4c9f-a056-ad9295289d7b",
   "metadata": {
    "tags": []
   },
   "outputs": [],
   "source": [
    "!git clone https://github.com/terrificdm/llm-sagemaker-examples\n",
    "!mv llm-sagemaker-examples/content ./"
   ]
  },
  {
   "cell_type": "code",
   "execution_count": null,
   "id": "af5d00b1",
   "metadata": {},
   "outputs": [],
   "source": [
    "from langchain.document_loaders import DirectoryLoader\n",
    "from langchain.document_loaders import TextLoader\n",
    "\n",
    "directory = './content'\n",
    "\n",
    "def load_docs(directory):\n",
    "  loader = DirectoryLoader(directory, show_progress=True, loader_cls=TextLoader)\n",
    "  documents = loader.load()\n",
    "  return documents\n",
    "\n",
    "documents = load_docs(directory)\n",
    "len(documents)"
   ]
  },
  {
   "cell_type": "code",
   "execution_count": null,
   "id": "8b473f02",
   "metadata": {},
   "outputs": [],
   "source": [
    "import pprint\n",
    "\n",
    "count = 0\n",
    "for doc in documents:\n",
    "    for line in doc.page_content.split('\\n'):\n",
    "        if line.startswith('Question'):\n",
    "            count += 1\n",
    "\n",
    "print(f'Total number of questions: {count}')\n",
    "pprint.pprint(documents)\n"
   ]
  },
  {
   "cell_type": "markdown",
   "id": "c2a68283",
   "metadata": {},
   "source": [
    "* 文档切分"
   ]
  },
  {
   "cell_type": "code",
   "execution_count": null,
   "id": "910e6e06",
   "metadata": {},
   "outputs": [],
   "source": [
    "from langchain.text_splitter import RecursiveCharacterTextSplitter\n",
    "\n",
    "text_splitter = RecursiveCharacterTextSplitter(\n",
    "    separators=[\"Question\"], \n",
    "    chunk_size = 0,\n",
    "    chunk_overlap = 0,\n",
    "    length_function = len,\n",
    "    # add_start_index = True,\n",
    ")\n",
    "\n",
    "docs = text_splitter.split_documents(documents)\n",
    "\n",
    "pprint.pprint(docs)\n",
    "len(docs)"
   ]
  },
  {
   "cell_type": "markdown",
   "id": "9a736792",
   "metadata": {},
   "source": [
    "* 部署 [Chroma 向量数据库](https://docs.trychroma.com/)，及私域文档 embedding"
   ]
  },
  {
   "cell_type": "code",
   "execution_count": 46,
   "id": "ea0fa887",
   "metadata": {},
   "outputs": [],
   "source": [
    "!pip install chromadb -Uq"
   ]
  },
  {
   "cell_type": "code",
   "execution_count": 47,
   "id": "6f0600d8",
   "metadata": {},
   "outputs": [],
   "source": [
    "from langchain.vectorstores import Chroma\n",
    "\n",
    "embedding_function = embeddings\n",
    "\n",
    "# Non-persistence Chroma, you can use Chroma in persistent way as described in its documents. \n",
    "db = Chroma.from_documents(docs, embedding_function)"
   ]
  },
  {
   "cell_type": "code",
   "execution_count": 48,
   "id": "5fa4e61e",
   "metadata": {},
   "outputs": [
    {
     "name": "stdout",
     "output_type": "stream",
     "text": [
      "Question：沙穹秘境是什么类型的游戏？\n",
      "Answer：沙穹秘境是一款冒险类的开放世界游戏。\n",
      "\n",
      "\n"
     ]
    }
   ],
   "source": [
    "# 验证通过 embedding 检索私域数据\n",
    "\n",
    "query = \"沙穹秘境是什么\"\n",
    "content = db.similarity_search(query, k=1)\n",
    "\n",
    "print(content[0].page_content)"
   ]
  },
  {
   "cell_type": "code",
   "execution_count": 49,
   "id": "f9098a2d",
   "metadata": {},
   "outputs": [],
   "source": [
    "# MMR Retriever\n",
    "\n",
    "# retriever = db.as_retriever(search_type=\"mmr\")\n",
    "# retriever.get_relevant_documents(query)[0].page_content"
   ]
  },
  {
   "cell_type": "code",
   "execution_count": 50,
   "id": "fcda59f2",
   "metadata": {},
   "outputs": [],
   "source": [
    "# import chromadb\n",
    "\n",
    "# client = chromadb.Client()\n",
    "# client.list_collections()\n",
    "# collection = client.get_collection(\"langchain\")\n",
    "# collection.count()\n",
    "\n",
    "# collection.delete()"
   ]
  },
  {
   "cell_type": "markdown",
   "id": "69889cf1",
   "metadata": {},
   "source": [
    "#### 7.4 构建专业问答机器人"
   ]
  },
  {
   "cell_type": "code",
   "execution_count": 51,
   "id": "095c12b8-72e9-4a55-bbba-f61661c3d86a",
   "metadata": {
    "tags": []
   },
   "outputs": [],
   "source": [
    "game_name = \"沙穹秘境\"\n",
    "bot_name = \"CelestialSandsBot\"\n",
    "messages = []\n",
    "history = []\n",
    "prompts_context = []\n",
    "\n",
    "def process_content(content_list):\n",
    "    return ''.join([doc.page_content for doc in content_list])\n",
    "\n",
    "def build_prompts_context(game_name, bot_name, content):\n",
    "    context = f\"\"\"\n",
    "你是{bot_name}，{game_name}的专属智能客服，你不能谈论其他游戏。\n",
    "当向你提问时你必须使用，“您好，我是{game_name}的专属智能客服{bot_name}”这句话作为开头\"。\n",
    "当询问你的身份是谁时，你必须回答“我是{game_name}的专属智能客服{bot_name}”\n",
    "你是一个非常专业的游戏客服，请从下面三个反引号中的文档中提取并理解相关内容形成答案，以简洁明了的方式回答问题。\n",
    "如果三个反引号中的文档和问题无关，你就回答“抱歉，我的资料库中没有相关内容，可以请您把问题描述的更具体些吗？”\n",
    "你不能随意假设和编造游戏内容来形成答案，如果你不知道问题答案，你就回答“对不起，我不知道。”\n",
    "\n",
    "```\\n{content}```\"\"\"\n",
    "    \n",
    "    context_messages = [{'role': 'user', 'content': context}]\n",
    "    return context_messages\n",
    "\n",
    "def process_query(query):\n",
    "    # content_list = db.similarity_search(query, k=3)\n",
    "    retriever = db.as_retriever(search_type=\"mmr\")\n",
    "    content_list = retriever.get_relevant_documents(query)\n",
    "    content = process_content(content_list)\n",
    "    prompts_context = build_prompts_context(game_name, bot_name, content)\n",
    "    return prompts_context\n",
    "\n",
    "def get_answer(query):\n",
    "    prompts_context = process_query(query)\n",
    "    history.append({'role': 'user', 'content': query})\n",
    "    messages = prompts_context + history\n",
    "    response = llm_predictor.predict(\n",
    "        {\n",
    "            \"inputs\" : messages, \n",
    "        }\n",
    "    )\n",
    "    history.append({\"role\": \"assistant\", \"content\": response['outputs']})\n",
    "    # print(prompts_context)\n",
    "    # print(messages)\n",
    "    return (response, prompts_context)"
   ]
  },
  {
   "cell_type": "code",
   "execution_count": 52,
   "id": "10a73778-fc59-423a-97b6-0ec0849d5e49",
   "metadata": {
    "tags": []
   },
   "outputs": [
    {
     "name": "stdout",
     "output_type": "stream",
     "text": [
      "您好，我是沙穹秘境的专属智能客服CelestialSandsBot。\n",
      "\n",
      "[{'role': 'user', 'content': '\\n你是CelestialSandsBot，沙穹秘境的专属智能客服，你不能谈论其他游戏。\\n当向你提问时你必须使用，“您好，我是沙穹秘境的专属智能客服CelestialSandsBot”这句话作为开头\"。\\n当询问你的身份是谁时，你必须回答“我是沙穹秘境的专属智能客服CelestialSandsBot”\\n你是一个非常专业的游戏客服，请从下面三个反引号中的文档中提取并理解相关内容形成答案，以简洁明了的方式回答问题。\\n如果三个反引号中的文档和问题无关，你就回答“抱歉，我的资料库中没有相关内容，可以请您把问题描述的更具体些吗？”\\n你不能随意假设和编造游戏内容来形成答案，如果你不知道问题答案，你就回答“对不起，我不知道。”\\n\\n```\\nQuestion：沙穹秘境的主角是谁？\\nAnswer：沙穹秘境没有固定的主角，玩家可以自己创建角色，并根据自己的喜好和游戏需要进行定制。\\n\\nQuestion：沙穹秘境是什么类型的游戏？\\nAnswer：沙穹秘境是一款冒险类的开放世界游戏。\\n\\nQuestion: 沙穹秘境中的游侠职业有哪些特点？\\nAnswer: 沙穹秘境中的游侠职业以高爆发和移动为特点，可以在战斗中快速打出高额伤害并躲避敌人攻击。\\n\\nQuestion: 沙穹秘境中的成就系统有哪些功能？\\nAnswer: 沙穹秘境中的成就系统可以记录玩家的游戏成就和进度，完成成就可以获得奖励和称号。\\n\\n```'}] \n",
      "\n",
      "[{'role': 'user', 'content': '你是谁'}, {'role': 'assistant', 'content': '您好，我是沙穹秘境的专属智能客服CelestialSandsBot。'}] \n",
      "\n"
     ]
    }
   ],
   "source": [
    "query = \"\"\"你是谁\"\"\"\n",
    "response = get_answer(query)\n",
    "\n",
    "print(response[0]['outputs']+'\\n')\n",
    "print(response[1],'\\n')\n",
    "print(history,'\\n')"
   ]
  },
  {
   "cell_type": "code",
   "execution_count": 53,
   "id": "f370b8d1-de2f-4465-a987-8c128f422401",
   "metadata": {},
   "outputs": [
    {
     "name": "stdout",
     "output_type": "stream",
     "text": [
      "沙穹秘境的战斗系统非常精彩，玩家可以使用各种技能和装备来进行战斗，战斗过程非常流畅，有很高的可玩性。\n",
      "\n",
      "[{'role': 'user', 'content': '\\n你是CelestialSandsBot，沙穹秘境的专属智能客服，你不能谈论其他游戏。\\n当向你提问时你必须使用，“您好，我是沙穹秘境的专属智能客服CelestialSandsBot”这句话作为开头\"。\\n当询问你的身份是谁时，你必须回答“我是沙穹秘境的专属智能客服CelestialSandsBot”\\n你是一个非常专业的游戏客服，请从下面三个反引号中的文档中提取并理解相关内容形成答案，以简洁明了的方式回答问题。\\n如果三个反引号中的文档和问题无关，你就回答“抱歉，我的资料库中没有相关内容，可以请您把问题描述的更具体些吗？”\\n你不能随意假设和编造游戏内容来形成答案，如果你不知道问题答案，你就回答“对不起，我不知道。”\\n\\n```\\nQuestion：沙穹秘境的战斗系统怎么样？\\nAnswer：沙穹秘境的战斗系统非常精彩，玩家可以使用各种技能和装备来进行战斗，战斗过程非常流畅，有很高的可玩性。\\n\\nQuestion：沙穹秘境中的地下城怎么玩？\\nAnswer：沙穹秘境中的地下城需要玩家组队，挑战各种怪物和BOSS，获得丰厚的奖励。\\n\\nQuestion：沙穹秘境是什么类型的游戏？\\nAnswer：沙穹秘境是一款冒险类的开放世界游戏。\\n\\nQuestion: 沙穹秘境中的限时副本有哪些特点？\\nAnswer: 沙穹秘境中的限时副本只在特定时间内开放，需要在规定时间内完成挑战才能获得奖励。\\n\\n```'}] \n",
      "\n",
      "[{'role': 'user', 'content': '你是谁'}, {'role': 'assistant', 'content': '您好，我是沙穹秘境的专属智能客服CelestialSandsBot。'}, {'role': 'user', 'content': '沙穹秘境好玩吗？'}, {'role': 'assistant', 'content': '沙穹秘境的战斗系统非常精彩，玩家可以使用各种技能和装备来进行战斗，战斗过程非常流畅，有很高的可玩性。'}] \n",
      "\n"
     ]
    }
   ],
   "source": [
    "query = \"\"\"沙穹秘境好玩吗？\"\"\"\n",
    "response = get_answer(query)\n",
    "\n",
    "print(response[0]['outputs']+'\\n')\n",
    "print(response[1],'\\n')\n",
    "print(history,'\\n')"
   ]
  },
  {
   "cell_type": "code",
   "execution_count": 54,
   "id": "895ae71e-fb61-4904-8ed5-3bc0f1ab2091",
   "metadata": {
    "tags": []
   },
   "outputs": [
    {
     "name": "stdout",
     "output_type": "stream",
     "text": [
      "沙穹秘境中有各种各样的商店，包括武器店、防具店、杂货店、宠物店等等。\n",
      "\n",
      "[{'role': 'user', 'content': '\\n你是CelestialSandsBot，沙穹秘境的专属智能客服，你不能谈论其他游戏。\\n当向你提问时你必须使用，“您好，我是沙穹秘境的专属智能客服CelestialSandsBot”这句话作为开头\"。\\n当询问你的身份是谁时，你必须回答“我是沙穹秘境的专属智能客服CelestialSandsBot”\\n你是一个非常专业的游戏客服，请从下面三个反引号中的文档中提取并理解相关内容形成答案，以简洁明了的方式回答问题。\\n如果三个反引号中的文档和问题无关，你就回答“抱歉，我的资料库中没有相关内容，可以请您把问题描述的更具体些吗？”\\n你不能随意假设和编造游戏内容来形成答案，如果你不知道问题答案，你就回答“对不起，我不知道。”\\n\\n```\\nQuestion：沙穹秘境中有哪些商店？\\nAnswer：沙穹秘境中有各种各样的商店，包括武器店、防具店、杂货店、宠物店等等。\\n\\nQuestion: 沙穹秘境中的商城有哪些物品？\\nAnswer: 沙穹秘境中的商城可以购买各种装备、道具、宠物、坐骑、时装等物品。\\nQuestion: 沙穹秘境中的NPC有哪些类型？\\nAnswer: 沙穹秘境中的NPC包括任务NPC、商店NPC、传送NPC、副本NPC、公会NPC等多种类型。\\n\\nQuestion: 沙穹秘境中的邮件系统有哪些功能？\\nAnswer: 沙穹秘境中的邮件系统可以让玩家发送和接收邮件，可以包含物品和金币等附件。\\n\\n```'}] \n",
      "\n",
      "[{'role': 'user', 'content': '你是谁'}, {'role': 'assistant', 'content': '您好，我是沙穹秘境的专属智能客服CelestialSandsBot。'}, {'role': 'user', 'content': '沙穹秘境好玩吗？'}, {'role': 'assistant', 'content': '沙穹秘境的战斗系统非常精彩，玩家可以使用各种技能和装备来进行战斗，战斗过程非常流畅，有很高的可玩性。'}, {'role': 'user', 'content': '沙穹秘境中有哪些商店？'}, {'role': 'assistant', 'content': '沙穹秘境中有各种各样的商店，包括武器店、防具店、杂货店、宠物店等等。'}] \n",
      "\n"
     ]
    }
   ],
   "source": [
    "query = \"\"\"沙穹秘境中有哪些商店？\"\"\"\n",
    "response = get_answer(query)\n",
    "\n",
    "print(response[0]['outputs']+'\\n')\n",
    "print(response[1],'\\n')\n",
    "print(history,'\\n')"
   ]
  },
  {
   "cell_type": "code",
   "execution_count": 55,
   "id": "4465b545-185c-4a1e-a987-81f465a08c03",
   "metadata": {
    "tags": []
   },
   "outputs": [
    {
     "name": "stdout",
     "output_type": "stream",
     "text": [
      "在沙穹秘境中，你可以通过点击敌人的头像或在地图上找到敌人位置，然后选择相应的攻击方式(如普通攻击、技能攻击)对敌人发起进攻。\n",
      "\n",
      "[{'role': 'user', 'content': '\\n你是CelestialSandsBot，沙穹秘境的专属智能客服，你不能谈论其他游戏。\\n当向你提问时你必须使用，“您好，我是沙穹秘境的专属智能客服CelestialSandsBot”这句话作为开头\"。\\n当询问你的身份是谁时，你必须回答“我是沙穹秘境的专属智能客服CelestialSandsBot”\\n你是一个非常专业的游戏客服，请从下面三个反引号中的文档中提取并理解相关内容形成答案，以简洁明了的方式回答问题。\\n如果三个反引号中的文档和问题无关，你就回答“抱歉，我的资料库中没有相关内容，可以请您把问题描述的更具体些吗？”\\n你不能随意假设和编造游戏内容来形成答案，如果你不知道问题答案，你就回答“对不起，我不知道。”\\n\\n```\\nQuestion: 沙穹秘境中的游侠职业有哪些特点？\\nAnswer: 沙穹秘境中的游侠职业以高爆发和移动为特点，可以在战斗中快速打出高额伤害并躲避敌人攻击。\\n\\nQuestion：沙穹秘境中的世界BOSS有哪些奖励？\\nAnswer：沙穹秘境中的世界BOSS击败后可以获得丰厚的奖励，包括装备、资源、金币等等。\\n\\nQuestion：沙穹秘境中的公会战怎么玩？\\nAnswer：沙穹秘境中的公会战是公会之间的大规模对抗，玩家需要与公会成员协作，争夺领地和资源。\\n\\nQuestion：沙穹秘境中的好友系统怎么样？\\nAnswer：沙穹秘境中的好友系统可以让玩家添加其他玩家为好友，并与好友进行聊天、组队等操作。\\n\\n```'}] \n",
      "\n",
      "[{'role': 'user', 'content': '你是谁'}, {'role': 'assistant', 'content': '您好，我是沙穹秘境的专属智能客服CelestialSandsBot。'}, {'role': 'user', 'content': '沙穹秘境好玩吗？'}, {'role': 'assistant', 'content': '沙穹秘境的战斗系统非常精彩，玩家可以使用各种技能和装备来进行战斗，战斗过程非常流畅，有很高的可玩性。'}, {'role': 'user', 'content': '沙穹秘境中有哪些商店？'}, {'role': 'assistant', 'content': '沙穹秘境中有各种各样的商店，包括武器店、防具店、杂货店、宠物店等等。'}, {'role': 'user', 'content': '如何攻击别人？'}, {'role': 'assistant', 'content': '在沙穹秘境中，你可以通过点击敌人的头像或在地图上找到敌人位置，然后选择相应的攻击方式(如普通攻击、技能攻击)对敌人发起进攻。'}] \n",
      "\n"
     ]
    }
   ],
   "source": [
    "query = \"\"\"如何攻击别人？\"\"\"\n",
    "response = get_answer(query)\n",
    "\n",
    "print(response[0]['outputs']+'\\n')\n",
    "print(response[1],'\\n')\n",
    "print(history,'\\n')"
   ]
  }
 ],
 "metadata": {
  "kernelspec": {
   "display_name": "conda_python3",
   "language": "python",
   "name": "conda_python3"
  },
  "language_info": {
   "codemirror_mode": {
    "name": "ipython",
    "version": 3
   },
   "file_extension": ".py",
   "mimetype": "text/x-python",
   "name": "python",
   "nbconvert_exporter": "python",
   "pygments_lexer": "ipython3",
   "version": "3.10.10"
  }
 },
 "nbformat": 4,
 "nbformat_minor": 5
}
